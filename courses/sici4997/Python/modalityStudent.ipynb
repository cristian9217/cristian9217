{
 "cells": [
  {
   "cell_type": "code",
   "execution_count": null,
   "metadata": {},
   "outputs": [],
   "source": [
    "##############################################################\n",
    "# File: modalityStudent.py                                   #\n",
    "# Author: Cristian M. Pagan 841-17-0264                      #\n",
    "# Course: SICI 4997 - Special Topics and New Technologies    #\n",
    "# Date: September 11, 2021                                   #\n",
    "##############################################################\n",
    "\n",
    "## Import libraries\n",
    "import pandas as pd ## For used to analyze data from dataframe.\n",
    "import matplotlib.pyplot as plt ## For working with graphs\n",
    "import numpy as np ## For used for working with arrays.\n",
    "from pathlib import Path ## for working directories and files."
   ]
  },
  {
   "cell_type": "code",
   "execution_count": null,
   "metadata": {},
   "outputs": [],
   "source": [
    "## The name of the filename of the dataset.\n",
    "file = \"uprb_database.csv\"\n",
    "\n",
    "## Throw an exception if file exists or not exists.\n",
    "if Path(file).is_file():\n",
    "    print(f\"\\nThe file {file:s} exist.\")\n",
    "else:\n",
    "    raise FileNotFoundError(f\"\\nThe file {file:s} does not exist.\")\n",
    "\n",
    "## Reading csv to a dataframe\n",
    "df = pd.read_csv(file)\n",
    "\n",
    "## Returns the tuple of shape (rows, columns) of DataFrame.\n",
    "row, col = df.shape\n",
    "\n",
    "## Throw an excpetion if dataframe is empty or not empty.\n",
    "if df.size > 0:\n",
    "    print(f\"{row:d} obs. of {col:d} variables\\n\")\n",
    "else:\n",
    "    raise Exception(\"Empty Dataset\\n\")   "
   ]
  },
  {
   "cell_type": "code",
   "execution_count": null,
   "metadata": {},
   "outputs": [],
   "source": [
    "def modalityTerm(term: str, modality: str):\n",
    "    \"\"\" This function returns the amount of data for each semester and its modality. \"\"\"\n",
    "    return df[(df['Term'] == term) & (df['Modality'] == modality)]\n",
    "\n",
    "def modalityTermCourse(term: str, modality: str, courseCode: str):\n",
    "    \"\"\" This function returns the amount of data for each semester and its modality\n",
    "        by the course code. \"\"\" \n",
    "    return df[(df['Term'] == term) & (df['Modality'] == modality) & \n",
    "              (df['Course'] == courseCode)]\n",
    "\n",
    "def modalityCourse(term: str, courseCode: str):\n",
    "    \"\"\" This function returns the amount of data for each semester\n",
    "        by the course code. \"\"\"\n",
    "    return df[(df['Term'] == term) & (df['Course'] == courseCode)]\n",
    "\n",
    "def modalityProfesor(term: str, nameProfesor: str):\n",
    "    \"\"\" This function returns the amount of data for each semester\n",
    "        by the full name of the profesor given the course. \"\"\"\n",
    "    return df[(df['Term'] == term) & (df['Professor'] == nameProfesor)]\n",
    "\n",
    "def modalityTermDays(term: str, days: str):\n",
    "    \"\"\" This function returns the amount of data for each semester\n",
    "        by the days given the course. \"\"\"\n",
    "    return df[(df['Term'] == term) & (df['Days'] == days)]\n",
    "\n",
    "def showCourseTerm(term: str):\n",
    "    \"\"\" This function returns the amount of data for each semester.  \"\"\"\n",
    "    return df[(df['Term'] == term)]\n",
    "\n",
    "def pieChart(term: str):\n",
    "    \"\"\" Generates a pie chart of the each semester. \"\"\"\n",
    "    totalModality = []\n",
    "    \n",
    "    totalModality.insert(0, len(modalityTerm(term, \"(H) - Hybrid\")))\n",
    "    totalModality.insert(1, len(modalityTerm(term, \"(P) - Presencial\")))\n",
    "    totalModality.insert(2, len(modalityTerm(term, \"(D) - Distance\")))\n",
    "\n",
    "    labelModality = [\"Hybrid\", \"Presencial\", \"Distance\"]\n",
    "\n",
    "    if(sum(totalModality) < 1):\n",
    "        print(f\"No data found for the term {term:s}.\")\n",
    "    else:\n",
    "        plt.pie(totalModality, labels = labelModality, autopct='%.1f%%')\n",
    "        plt.legend()\n",
    "        plt.title('Modality for the semester')\n",
    "        plt.show()"
   ]
  },
  {
   "cell_type": "code",
   "execution_count": null,
   "metadata": {},
   "outputs": [],
   "source": [
    "## Show the amount of data for each semester and its hybrid modality.\n",
    "hybridC22 = len(modalityTerm(\"C22\", \"(H) - Hybrid\"))\n",
    "print(f\"Semester C22 has {hybridC22:d} in hybrid mode. \")\n",
    "\n",
    "hybridC12 = len(modalityTerm(\"C12\", \"(H) - Hybrid\"))\n",
    "print(f\"Semester C12 has {hybridC12:d} in hybrid mode. \")\n",
    "\n",
    "hybridC11 = len(modalityTerm(\"C11\", \"(H) - Hybrid\"))\n",
    "print(f\"Semester C11 has {hybridC11:d} in hybrid mode. \")\n",
    "\n",
    "hybridC03 = len(modalityTerm(\"C03\", \"(H) - Hybrid\"))\n",
    "print(f\"Semester C03 has {hybridC03:d} in hybrid mode. \")\n",
    "\n",
    "hybridC02 = len(modalityTerm(\"C02\", \"(H) - Hybrid\"))\n",
    "print(f\"Semester C02 has {hybridC02:d} in hybrid mode.\\n\")"
   ]
  },
  {
   "cell_type": "code",
   "execution_count": null,
   "metadata": {},
   "outputs": [],
   "source": [
    "## Show the amount of data for each semester and its face-to-face modality.\n",
    "presencialC22 =  len(modalityTerm(\"C22\", \"(P) - Presencial\"))\n",
    "print(f\"Semester C22 has {presencialC22:d} in face-to-face mode.\")\n",
    "\n",
    "presencialC12 =  len(modalityTerm(\"C12\", \"(P) - Presencial\"))\n",
    "print(f\"Semester C12 has {presencialC12:d} in face-to-face mode.\")\n",
    "\n",
    "presencialC11 = len(modalityTerm(\"C11\", \"(P) - Presencial\"))\n",
    "print(f\"Semester C11 has {presencialC11:d} in face-to-face mode.\")\n",
    "\n",
    "presencialC03 = len(modalityTerm(\"C03\", \"(P) - Presencial\"))\n",
    "print(f\"Semester C03 has {presencialC03:d} in face-to-face mode.\")\n",
    "\n",
    "presencialC02 = len(modalityTerm(\"C02\", \"(P) - Presencial\"))\n",
    "print(f\"Semester C02 has {presencialC02:d} in face-to-face mode.\\n\")"
   ]
  },
  {
   "cell_type": "code",
   "execution_count": null,
   "metadata": {},
   "outputs": [],
   "source": [
    "## Show the amount of data for each semester and its distance modality.\n",
    "distanceC22 = len(modalityTerm(\"C22\", \"(D) - Distance\"))\n",
    "print(f\"Semester C22 has {distanceC22:d} in distance mode.\")\n",
    "\n",
    "distanceC12 = len(modalityTerm(\"C12\", \"(D) - Distance\"))\n",
    "print(f\"Semester C12 has {distanceC12:d} in distance mode.\")\n",
    "\n",
    "distanceC11 = len(modalityTerm(\"C11\", \"(D) - Distance\"))\n",
    "print(f\"Semester C11 has {distanceC11:d} in distance mode.\")\n",
    "\n",
    "distanceC03 = len(modalityTerm(\"C03\", \"(D) - Distance\"))\n",
    "print(f\"Semester C03 has {distanceC03:d} in distance mode.\")\n",
    "\n",
    "distanceC02 = len(modalityTerm(\"C02\", \"(D) - Distance\"))\n",
    "print(f\"Semester C02 has {distanceC02:d} in distance mode.\\n\")"
   ]
  },
  {
   "cell_type": "code",
   "execution_count": null,
   "metadata": {},
   "outputs": [],
   "source": [
    "## Show the amount of data for each semester, its face-to-face modality and\n",
    "## the course code is COTI3101 - Algorithms & Prog Dev I\n",
    "cotiPresC11 = len(modalityTermCourse(\"C11\", \"(P) - Presencial\", \"COTI3101\"))\n",
    "print(f\"Semester C11 in COTI3101 has {cotiPresC11:d} in presencial mode.\\n\")"
   ]
  },
  {
   "cell_type": "code",
   "execution_count": null,
   "metadata": {},
   "outputs": [],
   "source": [
    "## Show the amount of data which been created from COTI 3101 for semester C11\n",
    "coti3101C11 = len(modalityCourse(\"C11\", \"COTI3101\"))\n",
    "print(f\"Semester C11 in COTI3101 has the amount of {coti3101C11:d} courses.\\n\")"
   ]
  },
  {
   "cell_type": "code",
   "execution_count": null,
   "metadata": {},
   "outputs": [],
   "source": [
    "## Show the amount of data which has been teach by a professor for semester C11\n",
    "profSolaC11 = len(modalityProfesor(\"C11\", \"JUAN M. SOLA SLOAN\"))\n",
    "print(f\"Semester C11 has the professor Juan M. Sola is given {profSolaC11:d} courses.\\n\") "
   ]
  },
  {
   "cell_type": "code",
   "execution_count": null,
   "metadata": {},
   "outputs": [],
   "source": [
    "## Show the amount of data which been created are \n",
    "## offered on Tuesdays and Thursdays in semester C11\n",
    "TwoDaysC11 = len(modalityTermDays(\"C11\", \"TuTh\"))\n",
    "print(f\"On Tuesdays and Thursdays at {TwoDaysC11:d} courses are offered in term C11.\\n\")"
   ]
  },
  {
   "cell_type": "code",
   "execution_count": null,
   "metadata": {},
   "outputs": [],
   "source": [
    "## Show the amount of data which been created are \n",
    "## offered on Wednesday in semester C11\n",
    "OneDayC11 = len(modalityTermDays(\"C11\", \"W\"))\n",
    "print(f\"On Wednesday at {OneDayC11:d} courses are offered in term C11.\\n\")"
   ]
  },
  {
   "cell_type": "code",
   "execution_count": null,
   "metadata": {},
   "outputs": [],
   "source": [
    "## Mostrar la cantidad de datos de cada semestre.\n",
    "totalC22 = len(showCourseTerm(\"C22\"))\n",
    "print(f\"There are {totalC22:d} courses created in semester C22.\")\n",
    "\n",
    "totalC12 = len(showCourseTerm(\"C12\"))\n",
    "print(f\"There are {totalC12:d} courses created in semester C12.\")\n",
    "\n",
    "totalC11 = len(showCourseTerm(\"C11\"))\n",
    "print(f\"There are {totalC11:d} courses created in semester C11.\")\n",
    "\n",
    "totalC03 = len(showCourseTerm(\"C03\"))\n",
    "print(f\"There are {totalC03:d} courses created in semester C03.\")\n",
    "\n",
    "totalC02 = len(showCourseTerm(\"C02\"))\n",
    "print(f\"There are {totalC02:d} courses created in semester C02.\\n\")"
   ]
  },
  {
   "cell_type": "code",
   "execution_count": null,
   "metadata": {},
   "outputs": [],
   "source": [
    "## Show data of the courses offered in semester C02 and C11. \n",
    "print(f\"Term C12 has {totalC12:d} courses and Term C22 has {totalC22:d} courses.\")"
   ]
  },
  {
   "cell_type": "code",
   "execution_count": null,
   "metadata": {},
   "outputs": [],
   "source": [
    "## The difference of courses between two semesters.\n",
    "countCourses = totalC22 - totalC12\n",
    "print(f\"The difference between C12 and C22 is {countCourses:d} courses.\\n\")"
   ]
  },
  {
   "cell_type": "code",
   "execution_count": null,
   "metadata": {},
   "outputs": [],
   "source": [
    "print(\"Printing the pie chart graph...\")\n",
    "pieChart(\"C22\")\n",
    "pieChart(\"C12\")\n",
    "pieChart(\"C11\")\n",
    "pieChart(\"C03\")"
   ]
  },
  {
   "cell_type": "code",
   "execution_count": null,
   "metadata": {},
   "outputs": [],
   "source": [
    "## Printing the bar of the chart graph.\n",
    "print(\"Printing the bar chart graph...\\n\")\n",
    "\n",
    "labelTerm = [\"C22\", \"C12\", \"C11\", \"C03\", \"C02\"]\n",
    "totalPerTerm = [totalC22, totalC12, totalC11, totalC03, totalC02]\n",
    "\n",
    "plt.bar(labelTerm, totalPerTerm, width= 0.5)\n",
    "\n",
    "for i in range(len(labelTerm)):\n",
    "    plt.text(i, totalPerTerm[i], totalPerTerm[i], ha = \"center\", va = \"bottom\")\n",
    "\n",
    "plt.ylim([0, (max(totalPerTerm) + 200)])\n",
    "plt.xlabel(\"Amount of courses\")\n",
    "plt.ylabel(\"Semester (Term)\")\n",
    "plt.title(\"Total of courses created by semester\")\n",
    "plt.show()\n"
   ]
  }
 ],
 "metadata": {
  "kernelspec": {
   "display_name": "Python 3",
   "language": "python",
   "name": "python3"
  },
  "language_info": {
   "name": "python",
   "version": "3.11.2"
  },
  "orig_nbformat": 4
 },
 "nbformat": 4,
 "nbformat_minor": 2
}
